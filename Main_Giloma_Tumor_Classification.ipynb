{
 "cells": [
  {
   "cell_type": "markdown",
   "metadata": {},
   "source": [
    "# Importing the Libraries"
   ]
  },
  {
   "cell_type": "code",
   "execution_count": 1,
   "metadata": {},
   "outputs": [],
   "source": [
    "from tensorflow import keras\n",
    "from tensorflow.keras.preprocessing.image import ImageDataGenerator\n",
    "from tensorflow.keras.models import Sequential\n",
    "from tensorflow.keras.layers import Conv2D\n",
    "from tensorflow.keras.layers import MaxPooling2D\n",
    "from tensorflow.keras.layers import Flatten\n",
    "from tensorflow.keras.layers import Dense\n",
    "from tensorflow.keras.callbacks import EarlyStopping\n",
    "from tensorflow.keras.callbacks import ModelCheckpoint\n",
    "import matplotlib.pyplot as plt"
   ]
  },
  {
   "cell_type": "markdown",
   "metadata": {},
   "source": [
    "# Getting and loading the Training, Testing and Validation set"
   ]
  },
  {
   "cell_type": "code",
   "execution_count": 2,
   "metadata": {},
   "outputs": [],
   "source": [
    "train_path = r\"C:\\AI-DocHelper_Models_Code\\Giloma_Tumor_Classification\\dataset\\train\"\n",
    "validation_path = r\"C:\\AI-DocHelper_Models_Code\\Giloma_Tumor_Classification\\dataset\\val\"\n",
    "test_path = r\"C:\\AI-DocHelper_Models_Code\\Giloma_Tumor_Classification\\dataset\\test\""
   ]
  },
  {
   "cell_type": "code",
   "execution_count": 3,
   "metadata": {},
   "outputs": [],
   "source": [
    "batch_size = 16\n",
    "img_size = (256, 256)"
   ]
  },
  {
   "cell_type": "code",
   "execution_count": 4,
   "metadata": {},
   "outputs": [],
   "source": [
    "train_datagen = ImageDataGenerator(rescale = 1./255,\n",
    "                                  rotation_range = 40.,\n",
    "                                  width_shift_range = 0.2,\n",
    "                                  height_shift_range = 0.2,\n",
    "                                  shear_range = 0.2,\n",
    "                                  zoom_range = 0.2,\n",
    "                                  horizontal_flip = True)\n",
    "\n",
    "validation_datagen = ImageDataGenerator(rescale = 1./255)"
   ]
  },
  {
   "cell_type": "code",
   "execution_count": 5,
   "metadata": {},
   "outputs": [
    {
     "name": "stdout",
     "output_type": "stream",
     "text": [
      "Found 1069 images belonging to 2 classes.\n",
      "Found 356 images belonging to 2 classes.\n",
      "Found 1 images belonging to 2 classes.\n"
     ]
    }
   ],
   "source": [
    "train_generator = train_datagen.flow_from_directory(train_path,\n",
    "                                                   target_size = img_size,\n",
    "                                                   batch_size = batch_size,\n",
    "                                                    color_mode = \"grayscale\",\n",
    "                                                   class_mode = \"binary\")\n",
    "\n",
    "validation_generator = validation_datagen.flow_from_directory(validation_path,\n",
    "                                                             target_size = img_size,\n",
    "                                                             batch_size = batch_size,\n",
    "                                                              color_mode = \"grayscale\",\n",
    "                                                             class_mode = \"binary\")\n",
    "\n",
    "test_generator = validation_datagen.flow_from_directory(test_path,\n",
    "                                                       target_size = img_size,\n",
    "                                                       batch_size = batch_size,\n",
    "                                                       color_mode = \"grayscale\",\n",
    "                                                       class_mode = \"binary\",\n",
    "                                                       shuffle = False)"
   ]
  },
  {
   "cell_type": "markdown",
   "metadata": {},
   "source": [
    "# Getting the class names"
   ]
  },
  {
   "cell_type": "code",
   "execution_count": 6,
   "metadata": {},
   "outputs": [
    {
     "name": "stdout",
     "output_type": "stream",
     "text": [
      "{0: 'glioma_tumor', 1: 'no_tumor'}\n"
     ]
    }
   ],
   "source": [
    "temp_classes = dict(train_generator.class_indices)\n",
    "\n",
    "classes = dict()\n",
    "for (k, v) in temp_classes.items() :\n",
    "    classes[v] = k\n",
    "print(classes)"
   ]
  },
  {
   "cell_type": "markdown",
   "metadata": {},
   "source": [
    "# Building the CNN"
   ]
  },
  {
   "cell_type": "markdown",
   "metadata": {},
   "source": [
    "## Initalising the CNN"
   ]
  },
  {
   "cell_type": "code",
   "execution_count": 7,
   "metadata": {},
   "outputs": [],
   "source": [
    "model = Sequential()"
   ]
  },
  {
   "cell_type": "markdown",
   "metadata": {},
   "source": [
    "# Adding the layers"
   ]
  },
  {
   "cell_type": "markdown",
   "metadata": {},
   "source": [
    "## Adding the First Convolutional and Pooling layers"
   ]
  },
  {
   "cell_type": "code",
   "execution_count": 8,
   "metadata": {},
   "outputs": [],
   "source": [
    "model.add(Conv2D(32, (3, 3), input_shape = (img_size[0], img_size[1], 1), activation = \"relu\"))\n",
    "model.add(MaxPooling2D(pool_size = (2, 2)))"
   ]
  },
  {
   "cell_type": "markdown",
   "metadata": {},
   "source": [
    "## Adding the Second Convolutional and Pooling layers"
   ]
  },
  {
   "cell_type": "code",
   "execution_count": 9,
   "metadata": {},
   "outputs": [],
   "source": [
    "model.add(Conv2D(32, (3, 3), input_shape = (img_size[0], img_size[1], 1), activation = \"relu\"))\n",
    "model.add(MaxPooling2D(pool_size = (2, 2)))"
   ]
  },
  {
   "cell_type": "markdown",
   "metadata": {},
   "source": [
    "## Adding the Third Convolutional and Pooling layers"
   ]
  },
  {
   "cell_type": "code",
   "execution_count": 10,
   "metadata": {},
   "outputs": [],
   "source": [
    "model.add(Conv2D(64, (3, 3), input_shape = (img_size[0], img_size[1], 1), activation = \"relu\"))\n",
    "model.add(MaxPooling2D(pool_size = (2, 2)))"
   ]
  },
  {
   "cell_type": "markdown",
   "metadata": {},
   "source": [
    "## Adding the Forth Convolutional and Pooling layers"
   ]
  },
  {
   "cell_type": "code",
   "execution_count": 11,
   "metadata": {},
   "outputs": [],
   "source": [
    "model.add(Conv2D(64, (3, 3), input_shape = (img_size[0], img_size[1], 1), activation = \"relu\"))\n",
    "model.add(MaxPooling2D(pool_size = (2, 2)))"
   ]
  },
  {
   "cell_type": "markdown",
   "metadata": {},
   "source": [
    "## Adding the Fifth Convolutional and Pooling layers"
   ]
  },
  {
   "cell_type": "code",
   "execution_count": 12,
   "metadata": {},
   "outputs": [],
   "source": [
    "model.add(Conv2D(128, (3, 3), input_shape = (img_size[0], img_size[1], 1), activation = \"relu\"))\n",
    "model.add(MaxPooling2D(pool_size = (2, 2)))"
   ]
  },
  {
   "cell_type": "markdown",
   "metadata": {},
   "source": [
    "## Adding the Sixth Convolutional and Pooling layers"
   ]
  },
  {
   "cell_type": "code",
   "execution_count": 13,
   "metadata": {},
   "outputs": [],
   "source": [
    "model.add(Conv2D(128, (3, 3), input_shape = (img_size[0], img_size[1], 1), activation = \"relu\"))\n",
    "model.add(MaxPooling2D(pool_size = (2, 2)))"
   ]
  },
  {
   "cell_type": "markdown",
   "metadata": {},
   "source": [
    "# Flattening all the layers"
   ]
  },
  {
   "cell_type": "code",
   "execution_count": 14,
   "metadata": {},
   "outputs": [],
   "source": [
    "model.add(Flatten())"
   ]
  },
  {
   "cell_type": "markdown",
   "metadata": {},
   "source": [
    "## Adding the First Fully Connected Layer"
   ]
  },
  {
   "cell_type": "code",
   "execution_count": 15,
   "metadata": {},
   "outputs": [],
   "source": [
    "model.add(Dense(units = 128, activation = \"relu\"))"
   ]
  },
  {
   "cell_type": "markdown",
   "metadata": {},
   "source": [
    "## Adding the Second Fully Connected Layer"
   ]
  },
  {
   "cell_type": "code",
   "execution_count": 16,
   "metadata": {},
   "outputs": [],
   "source": [
    "model.add(Dense(units = 64, activation = \"relu\"))"
   ]
  },
  {
   "cell_type": "markdown",
   "metadata": {},
   "source": [
    "## Adding the Third Fully Connected Layer"
   ]
  },
  {
   "cell_type": "code",
   "execution_count": 17,
   "metadata": {},
   "outputs": [],
   "source": [
    "model.add(Dense(units = 32, activation = \"relu\"))"
   ]
  },
  {
   "cell_type": "markdown",
   "metadata": {},
   "source": [
    "## Adding the Final Fully Connected Layer"
   ]
  },
  {
   "cell_type": "code",
   "execution_count": 18,
   "metadata": {},
   "outputs": [],
   "source": [
    "model.add(Dense(units = 1, activation = \"sigmoid\"))"
   ]
  },
  {
   "cell_type": "markdown",
   "metadata": {},
   "source": [
    "## Displaying the model summary"
   ]
  },
  {
   "cell_type": "code",
   "execution_count": 19,
   "metadata": {},
   "outputs": [
    {
     "name": "stdout",
     "output_type": "stream",
     "text": [
      "Model: \"sequential\"\n",
      "_________________________________________________________________\n",
      "Layer (type)                 Output Shape              Param #   \n",
      "=================================================================\n",
      "conv2d (Conv2D)              (None, 254, 254, 32)      320       \n",
      "_________________________________________________________________\n",
      "max_pooling2d (MaxPooling2D) (None, 127, 127, 32)      0         \n",
      "_________________________________________________________________\n",
      "conv2d_1 (Conv2D)            (None, 125, 125, 32)      9248      \n",
      "_________________________________________________________________\n",
      "max_pooling2d_1 (MaxPooling2 (None, 62, 62, 32)        0         \n",
      "_________________________________________________________________\n",
      "conv2d_2 (Conv2D)            (None, 60, 60, 64)        18496     \n",
      "_________________________________________________________________\n",
      "max_pooling2d_2 (MaxPooling2 (None, 30, 30, 64)        0         \n",
      "_________________________________________________________________\n",
      "conv2d_3 (Conv2D)            (None, 28, 28, 64)        36928     \n",
      "_________________________________________________________________\n",
      "max_pooling2d_3 (MaxPooling2 (None, 14, 14, 64)        0         \n",
      "_________________________________________________________________\n",
      "conv2d_4 (Conv2D)            (None, 12, 12, 128)       73856     \n",
      "_________________________________________________________________\n",
      "max_pooling2d_4 (MaxPooling2 (None, 6, 6, 128)         0         \n",
      "_________________________________________________________________\n",
      "conv2d_5 (Conv2D)            (None, 4, 4, 128)         147584    \n",
      "_________________________________________________________________\n",
      "max_pooling2d_5 (MaxPooling2 (None, 2, 2, 128)         0         \n",
      "_________________________________________________________________\n",
      "flatten (Flatten)            (None, 512)               0         \n",
      "_________________________________________________________________\n",
      "dense (Dense)                (None, 128)               65664     \n",
      "_________________________________________________________________\n",
      "dense_1 (Dense)              (None, 64)                8256      \n",
      "_________________________________________________________________\n",
      "dense_2 (Dense)              (None, 32)                2080      \n",
      "_________________________________________________________________\n",
      "dense_3 (Dense)              (None, 1)                 33        \n",
      "=================================================================\n",
      "Total params: 362,465\n",
      "Trainable params: 362,465\n",
      "Non-trainable params: 0\n",
      "_________________________________________________________________\n"
     ]
    }
   ],
   "source": [
    "model.summary()"
   ]
  },
  {
   "cell_type": "markdown",
   "metadata": {},
   "source": [
    "## Compiling the CNN model"
   ]
  },
  {
   "cell_type": "code",
   "execution_count": 20,
   "metadata": {},
   "outputs": [],
   "source": [
    "model.compile(optimizer = \"adam\",\n",
    "             loss = \"binary_crossentropy\", \n",
    "             metrics = [\"accuracy\"])"
   ]
  },
  {
   "cell_type": "markdown",
   "metadata": {},
   "source": [
    "# Training the CNN"
   ]
  },
  {
   "cell_type": "markdown",
   "metadata": {},
   "source": [
    "## Saving the Best model only"
   ]
  },
  {
   "cell_type": "code",
   "execution_count": 21,
   "metadata": {},
   "outputs": [],
   "source": [
    "checkpoint = ModelCheckpoint(filepath = \"giloma_tumor.h5\",\n",
    "                            save_best_only = True)"
   ]
  },
  {
   "cell_type": "markdown",
   "metadata": {},
   "source": [
    "## Stopping the Training, if there is no improvement"
   ]
  },
  {
   "cell_type": "code",
   "execution_count": 22,
   "metadata": {},
   "outputs": [],
   "source": [
    "earlyStopping = EarlyStopping(monitor=\"val_loss\", \n",
    "                              patience = 10,\n",
    "                             restore_best_weights = True,\n",
    "                             verbose = 1)"
   ]
  },
  {
   "cell_type": "markdown",
   "metadata": {},
   "source": [
    "## Calculating the steps_per_epoch and validation_steps"
   ]
  },
  {
   "cell_type": "code",
   "execution_count": 23,
   "metadata": {},
   "outputs": [
    {
     "name": "stdout",
     "output_type": "stream",
     "text": [
      "65\n",
      "23\n"
     ]
    }
   ],
   "source": [
    "import math\n",
    "\n",
    "batch_size = batch_size\n",
    "training_size = 1039\n",
    "validation_size = 356\n",
    "\n",
    "compute_steps_per_epoch = lambda x : int(math.ceil(1. * x / batch_size))\n",
    "\n",
    "steps_per_epoch = compute_steps_per_epoch(training_size)\n",
    "validation_steps = compute_steps_per_epoch(validation_size)\n",
    "\n",
    "print(steps_per_epoch)\n",
    "print(validation_steps)"
   ]
  },
  {
   "cell_type": "code",
   "execution_count": 24,
   "metadata": {},
   "outputs": [
    {
     "name": "stderr",
     "output_type": "stream",
     "text": [
      "C:\\Users\\RAJ SHAH\\anaconda3\\lib\\site-packages\\tensorflow\\python\\keras\\engine\\training.py:1844: UserWarning: `Model.fit_generator` is deprecated and will be removed in a future version. Please use `Model.fit`, which supports generators.\n",
      "  warnings.warn('`Model.fit_generator` is deprecated and '\n"
     ]
    },
    {
     "name": "stdout",
     "output_type": "stream",
     "text": [
      "Epoch 1/50\n",
      "65/65 [==============================] - 30s 454ms/step - loss: 0.6728 - accuracy: 0.6739 - val_loss: 0.6363 - val_accuracy: 0.6489\n",
      "Epoch 2/50\n",
      "65/65 [==============================] - 28s 428ms/step - loss: 0.5880 - accuracy: 0.6907 - val_loss: 0.5665 - val_accuracy: 0.6489\n",
      "Epoch 3/50\n",
      "65/65 [==============================] - 30s 460ms/step - loss: 0.5633 - accuracy: 0.6938 - val_loss: 0.6517 - val_accuracy: 0.5337\n",
      "Epoch 4/50\n",
      "65/65 [==============================] - 32s 495ms/step - loss: 0.5169 - accuracy: 0.7639 - val_loss: 0.6556 - val_accuracy: 0.6573\n",
      "Epoch 5/50\n",
      "65/65 [==============================] - 32s 491ms/step - loss: 0.5893 - accuracy: 0.7221 - val_loss: 0.7752 - val_accuracy: 0.3680\n",
      "Epoch 6/50\n",
      "65/65 [==============================] - 32s 490ms/step - loss: 0.5324 - accuracy: 0.7623 - val_loss: 0.4372 - val_accuracy: 0.8539\n",
      "Epoch 7/50\n",
      "65/65 [==============================] - 32s 494ms/step - loss: 0.4545 - accuracy: 0.8109 - val_loss: 0.4440 - val_accuracy: 0.7949\n",
      "Epoch 8/50\n",
      "65/65 [==============================] - 32s 492ms/step - loss: 0.3922 - accuracy: 0.8540 - val_loss: 0.3952 - val_accuracy: 0.8483\n",
      "Epoch 9/50\n",
      "65/65 [==============================] - 35s 543ms/step - loss: 0.4103 - accuracy: 0.8451 - val_loss: 0.6106 - val_accuracy: 0.6489\n",
      "Epoch 10/50\n",
      "65/65 [==============================] - 33s 511ms/step - loss: 0.3615 - accuracy: 0.8654 - val_loss: 0.6158 - val_accuracy: 0.7416\n",
      "Epoch 11/50\n",
      "65/65 [==============================] - 33s 503ms/step - loss: 0.3241 - accuracy: 0.8864 - val_loss: 0.6923 - val_accuracy: 0.6826\n",
      "Epoch 12/50\n",
      "65/65 [==============================] - 34s 515ms/step - loss: 0.3023 - accuracy: 0.8903 - val_loss: 0.3130 - val_accuracy: 0.8933\n",
      "Epoch 13/50\n",
      "65/65 [==============================] - 36s 558ms/step - loss: 0.3112 - accuracy: 0.8844 - val_loss: 0.3067 - val_accuracy: 0.8764\n",
      "Epoch 14/50\n",
      "65/65 [==============================] - 34s 526ms/step - loss: 0.3102 - accuracy: 0.8912 - val_loss: 0.4145 - val_accuracy: 0.8287\n",
      "Epoch 15/50\n",
      "65/65 [==============================] - 33s 512ms/step - loss: 0.2516 - accuracy: 0.9011 - val_loss: 0.4214 - val_accuracy: 0.8118\n",
      "Epoch 16/50\n",
      "65/65 [==============================] - 33s 503ms/step - loss: 0.2815 - accuracy: 0.9002 - val_loss: 0.2962 - val_accuracy: 0.8904\n",
      "Epoch 17/50\n",
      "65/65 [==============================] - 33s 503ms/step - loss: 0.3191 - accuracy: 0.8857 - val_loss: 0.3968 - val_accuracy: 0.8680\n",
      "Epoch 18/50\n",
      "65/65 [==============================] - 33s 505ms/step - loss: 0.2341 - accuracy: 0.9193 - val_loss: 0.2698 - val_accuracy: 0.8989\n",
      "Epoch 19/50\n",
      "65/65 [==============================] - 33s 513ms/step - loss: 0.2314 - accuracy: 0.9256 - val_loss: 0.3466 - val_accuracy: 0.8848\n",
      "Epoch 20/50\n",
      "65/65 [==============================] - 33s 500ms/step - loss: 0.2788 - accuracy: 0.8958 - val_loss: 0.2671 - val_accuracy: 0.8989\n",
      "Epoch 21/50\n",
      "65/65 [==============================] - 33s 502ms/step - loss: 0.2103 - accuracy: 0.9287 - val_loss: 0.3530 - val_accuracy: 0.8483\n",
      "Epoch 22/50\n",
      "65/65 [==============================] - 33s 502ms/step - loss: 0.2907 - accuracy: 0.8971 - val_loss: 0.3374 - val_accuracy: 0.8624\n",
      "Epoch 23/50\n",
      "65/65 [==============================] - 33s 500ms/step - loss: 0.2363 - accuracy: 0.9157 - val_loss: 0.2934 - val_accuracy: 0.8848\n",
      "Epoch 24/50\n",
      "65/65 [==============================] - 33s 503ms/step - loss: 0.2258 - accuracy: 0.9189 - val_loss: 0.2175 - val_accuracy: 0.9270\n",
      "Epoch 25/50\n",
      "65/65 [==============================] - 33s 501ms/step - loss: 0.2644 - accuracy: 0.9080 - val_loss: 0.2718 - val_accuracy: 0.8961\n",
      "Epoch 26/50\n",
      "65/65 [==============================] - 33s 499ms/step - loss: 0.2373 - accuracy: 0.9126 - val_loss: 0.2656 - val_accuracy: 0.8933\n",
      "Epoch 27/50\n",
      "65/65 [==============================] - 33s 503ms/step - loss: 0.2426 - accuracy: 0.9190 - val_loss: 0.2260 - val_accuracy: 0.9101\n",
      "Epoch 28/50\n",
      "65/65 [==============================] - 33s 508ms/step - loss: 0.2766 - accuracy: 0.8933 - val_loss: 0.2456 - val_accuracy: 0.9073\n",
      "Epoch 29/50\n",
      "65/65 [==============================] - 33s 505ms/step - loss: 0.2391 - accuracy: 0.9085 - val_loss: 0.2611 - val_accuracy: 0.8989\n",
      "Epoch 30/50\n",
      "65/65 [==============================] - 33s 503ms/step - loss: 0.2070 - accuracy: 0.9195 - val_loss: 0.2989 - val_accuracy: 0.8792\n",
      "Epoch 31/50\n",
      "65/65 [==============================] - 33s 506ms/step - loss: 0.2101 - accuracy: 0.9273 - val_loss: 0.2111 - val_accuracy: 0.9157\n",
      "Epoch 32/50\n",
      "65/65 [==============================] - 34s 516ms/step - loss: 0.2005 - accuracy: 0.9204 - val_loss: 0.2460 - val_accuracy: 0.9073\n",
      "Epoch 33/50\n",
      "65/65 [==============================] - 33s 511ms/step - loss: 0.2385 - accuracy: 0.9094 - val_loss: 0.2334 - val_accuracy: 0.9101\n",
      "Epoch 34/50\n",
      "65/65 [==============================] - 33s 512ms/step - loss: 0.1753 - accuracy: 0.9406 - val_loss: 0.1988 - val_accuracy: 0.9270\n",
      "Epoch 35/50\n",
      "65/65 [==============================] - 33s 506ms/step - loss: 0.2214 - accuracy: 0.9155 - val_loss: 0.1973 - val_accuracy: 0.9242\n",
      "Epoch 36/50\n",
      "65/65 [==============================] - 33s 511ms/step - loss: 0.1744 - accuracy: 0.9435 - val_loss: 0.2089 - val_accuracy: 0.9129\n",
      "Epoch 37/50\n",
      "65/65 [==============================] - 33s 509ms/step - loss: 0.1939 - accuracy: 0.9253 - val_loss: 0.2215 - val_accuracy: 0.9101\n",
      "Epoch 38/50\n",
      "65/65 [==============================] - 33s 509ms/step - loss: 0.1780 - accuracy: 0.9416 - val_loss: 0.2355 - val_accuracy: 0.8961\n",
      "Epoch 39/50\n",
      "65/65 [==============================] - 33s 509ms/step - loss: 0.1731 - accuracy: 0.9347 - val_loss: 0.2063 - val_accuracy: 0.9213\n",
      "Epoch 40/50\n",
      "65/65 [==============================] - 33s 513ms/step - loss: 0.1677 - accuracy: 0.9365 - val_loss: 0.3333 - val_accuracy: 0.8596\n",
      "Epoch 41/50\n",
      "65/65 [==============================] - 33s 509ms/step - loss: 0.1814 - accuracy: 0.9374 - val_loss: 0.2347 - val_accuracy: 0.9017\n",
      "Epoch 42/50\n",
      "65/65 [==============================] - 33s 508ms/step - loss: 0.1726 - accuracy: 0.9444 - val_loss: 0.2914 - val_accuracy: 0.8652\n",
      "Epoch 43/50\n",
      "65/65 [==============================] - 33s 511ms/step - loss: 0.1723 - accuracy: 0.9361 - val_loss: 0.2545 - val_accuracy: 0.9017\n",
      "Epoch 44/50\n",
      "65/65 [==============================] - 33s 507ms/step - loss: 0.1605 - accuracy: 0.9377 - val_loss: 0.2252 - val_accuracy: 0.9101\n",
      "Epoch 45/50\n",
      "65/65 [==============================] - 33s 506ms/step - loss: 0.1964 - accuracy: 0.9220 - val_loss: 0.2530 - val_accuracy: 0.9017\n",
      "Restoring model weights from the end of the best epoch.\n",
      "Epoch 00045: early stopping\n"
     ]
    }
   ],
   "source": [
    "history = model.fit_generator(train_generator,\n",
    "                             steps_per_epoch = steps_per_epoch,\n",
    "                             epochs = 50,\n",
    "                             validation_data = validation_generator,\n",
    "                             validation_steps = validation_steps,\n",
    "                             callbacks = [checkpoint, earlyStopping])"
   ]
  },
  {
   "cell_type": "markdown",
   "metadata": {},
   "source": [
    "# Saving the model"
   ]
  },
  {
   "cell_type": "code",
   "execution_count": 25,
   "metadata": {},
   "outputs": [],
   "source": [
    "model_json = model.to_json()\n",
    "\n",
    "with open(\"giloma_tumor.json\", \"w\") as json_file :\n",
    "    json_file.write(model_json)"
   ]
  },
  {
   "cell_type": "markdown",
   "metadata": {},
   "source": [
    "# Visualizing the Training Performance"
   ]
  },
  {
   "cell_type": "code",
   "execution_count": 26,
   "metadata": {},
   "outputs": [
    {
     "data": {
      "image/png": "[encoded data removed]",
      "text/plain": [
       "<Figure size 864x864 with 2 Axes>"
      ]
     },
     "metadata": {
      "needs_background": "light"
     },
     "output_type": "display_data"
    }
   ],
   "source": [
    "plt.figure(figsize = (12, 12))\n",
    "\n",
    "plt.subplot(2, 2, 1)\n",
    "plt.plot(history.history[\"accuracy\"], label = \"accuracy\")\n",
    "plt.plot(history.history[\"val_accuracy\"], label = \"val_accuracy\")\n",
    "plt.legend()\n",
    "plt.grid()\n",
    "plt.title(\"Accuracy Evaluation\")\n",
    "\n",
    "plt.subplot(2, 2, 2)\n",
    "plt.plot(history.history[\"loss\"], label = \"loss\")\n",
    "plt.plot(history.history[\"val_loss\"], label = \"val_loss\")\n",
    "plt.grid()\n",
    "plt.legend()\n",
    "plt.title(\"Loss Evaluation\")\n",
    "\n",
    "plt.savefig(\"giloma_tumor_model_history.jpg\")"
   ]
  },
  {
   "cell_type": "markdown",
   "metadata": {},
   "source": [
    "# Getting the accuracy for test set"
   ]
  },
  {
   "cell_type": "code",
   "execution_count": 27,
   "metadata": {},
   "outputs": [
    {
     "name": "stdout",
     "output_type": "stream",
     "text": [
      "23/23 [==============================] - 3s 109ms/step - loss: 0.1973 - accuracy: 0.9242\n",
      "[0.19734686613082886, 0.9241573214530945]\n"
     ]
    }
   ],
   "source": [
    "test_accuracy = model.evaluate(validation_generator)\n",
    "print(test_accuracy)"
   ]
  },
  {
   "cell_type": "code",
   "execution_count": 28,
   "metadata": {},
   "outputs": [
    {
     "name": "stdout",
     "output_type": "stream",
     "text": [
      "23/23 [==============================] - 3s 110ms/step\n"
     ]
    },
    {
     "data": {
      "text/plain": [
       "array([[7.07387924e-04],\n",
       "       [1.29401684e-04],\n",
       "       [8.79418373e-01],\n",
       "       [8.86354744e-01],\n",
       "       [8.58873129e-04],\n",
       "       [8.64152610e-01],\n",
       "       [6.06626272e-04],\n",
       "       [9.36448574e-01],\n",
       "       [9.40998912e-01],\n",
       "       [8.93422902e-01],\n",
       "       [7.09338055e-05],\n",
       "       [8.54343057e-01],\n",
       "       [9.28713620e-01],\n",
       "       [7.33673573e-04],\n",
       "       [1.76936388e-04],\n",
       "       [1.00360841e-04],\n",
       "       [3.60900164e-03],\n",
       "       [1.36089325e-03],\n",
       "       [7.82747090e-01],\n",
       "       [6.07997179e-04],\n",
       "       [8.78056526e-01],\n",
       "       [8.34286213e-04],\n",
       "       [8.19298923e-01],\n",
       "       [8.96518171e-01],\n",
       "       [7.95036554e-04],\n",
       "       [8.54718208e-01],\n",
       "       [9.65178013e-04],\n",
       "       [7.90859461e-01],\n",
       "       [7.75605440e-04],\n",
       "       [2.21121311e-03],\n",
       "       [8.46423626e-01],\n",
       "       [5.98645210e-03],\n",
       "       [9.73552465e-04],\n",
       "       [9.25756693e-01],\n",
       "       [3.10039520e-03],\n",
       "       [1.43229961e-04],\n",
       "       [9.36448574e-01],\n",
       "       [9.07399714e-01],\n",
       "       [1.97508216e-05],\n",
       "       [8.70368242e-01],\n",
       "       [9.11951900e-01],\n",
       "       [8.61222744e-01],\n",
       "       [8.54713142e-01],\n",
       "       [9.02079701e-01],\n",
       "       [3.25252444e-01],\n",
       "       [2.52923369e-03],\n",
       "       [2.46286690e-02],\n",
       "       [2.15989351e-03],\n",
       "       [1.97181106e-03],\n",
       "       [2.98932195e-03],\n",
       "       [8.80258262e-01],\n",
       "       [5.32755554e-02],\n",
       "       [5.13967872e-03],\n",
       "       [5.62560856e-02],\n",
       "       [8.53255033e-01],\n",
       "       [8.61127198e-01],\n",
       "       [7.68552661e-01],\n",
       "       [9.10670400e-01],\n",
       "       [2.29311372e-05],\n",
       "       [5.93480468e-03],\n",
       "       [9.55524981e-01],\n",
       "       [9.06782866e-01],\n",
       "       [2.37153530e-01],\n",
       "       [5.65648079e-04],\n",
       "       [1.80900097e-04],\n",
       "       [8.75230074e-01],\n",
       "       [2.39348992e-05],\n",
       "       [3.17156315e-04],\n",
       "       [8.76666486e-01],\n",
       "       [1.20580567e-04],\n",
       "       [9.18234468e-01],\n",
       "       [2.38597393e-04],\n",
       "       [1.35838985e-03],\n",
       "       [1.57305598e-03],\n",
       "       [2.41404772e-03],\n",
       "       [9.11951900e-01],\n",
       "       [1.93268061e-04],\n",
       "       [3.64413857e-03],\n",
       "       [1.18687531e-05],\n",
       "       [1.21915340e-03],\n",
       "       [8.67031574e-01],\n",
       "       [7.97223038e-05],\n",
       "       [8.12256098e-01],\n",
       "       [4.31562662e-02],\n",
       "       [2.10174918e-03],\n",
       "       [1.86890364e-04],\n",
       "       [3.60727310e-04],\n",
       "       [4.39044833e-03],\n",
       "       [1.65557861e-03],\n",
       "       [2.26438850e-01],\n",
       "       [8.62155497e-01],\n",
       "       [4.36425209e-04],\n",
       "       [8.81379724e-01],\n",
       "       [2.81149149e-03],\n",
       "       [9.02020693e-01],\n",
       "       [8.92390251e-01],\n",
       "       [4.32521105e-04],\n",
       "       [6.62490811e-06],\n",
       "       [1.83334947e-03],\n",
       "       [3.61064076e-03],\n",
       "       [1.83123350e-03],\n",
       "       [8.85837018e-01],\n",
       "       [6.89238310e-04],\n",
       "       [2.96294689e-04],\n",
       "       [1.49816275e-04],\n",
       "       [8.35887730e-01],\n",
       "       [6.50715447e-05],\n",
       "       [9.02079701e-01],\n",
       "       [1.76340342e-04],\n",
       "       [8.22037458e-01],\n",
       "       [3.48566027e-05],\n",
       "       [1.98394060e-02],\n",
       "       [1.87336504e-02],\n",
       "       [5.81592321e-04],\n",
       "       [3.38554382e-04],\n",
       "       [9.53332365e-01],\n",
       "       [1.85251236e-04],\n",
       "       [8.54713142e-01],\n",
       "       [9.08482194e-01],\n",
       "       [8.28062773e-01],\n",
       "       [3.75609488e-05],\n",
       "       [9.28461909e-01],\n",
       "       [2.17533112e-03],\n",
       "       [7.72356987e-04],\n",
       "       [8.67952049e-01],\n",
       "       [9.79375243e-02],\n",
       "       [9.21100378e-04],\n",
       "       [3.12367082e-03],\n",
       "       [8.57978523e-01],\n",
       "       [2.99909711e-03],\n",
       "       [2.04575062e-03],\n",
       "       [1.85525696e-05],\n",
       "       [8.58558774e-01],\n",
       "       [1.05896885e-04],\n",
       "       [4.26620245e-04],\n",
       "       [3.08659673e-03],\n",
       "       [9.07174349e-01],\n",
       "       [8.57994497e-01],\n",
       "       [1.99288130e-04],\n",
       "       [5.16300201e-02],\n",
       "       [9.36561823e-01],\n",
       "       [5.39904833e-03],\n",
       "       [8.56606424e-01],\n",
       "       [3.16339731e-03],\n",
       "       [9.47326422e-04],\n",
       "       [8.78227711e-01],\n",
       "       [8.97665441e-01],\n",
       "       [2.27214396e-02],\n",
       "       [9.31416392e-01],\n",
       "       [1.53908134e-03],\n",
       "       [8.81379724e-01],\n",
       "       [2.85565853e-04],\n",
       "       [1.21858716e-03],\n",
       "       [8.08580041e-01],\n",
       "       [9.55524981e-01],\n",
       "       [3.94473391e-05],\n",
       "       [9.18289006e-01],\n",
       "       [6.90157467e-05],\n",
       "       [9.27072108e-01],\n",
       "       [6.52432442e-04],\n",
       "       [1.11615658e-03],\n",
       "       [8.53739858e-01],\n",
       "       [4.26475381e-05],\n",
       "       [3.69148910e-01],\n",
       "       [6.34685159e-03],\n",
       "       [2.33301520e-03],\n",
       "       [8.60264063e-01],\n",
       "       [1.08231201e-04],\n",
       "       [1.86571479e-03],\n",
       "       [9.02580142e-01],\n",
       "       [2.18024850e-03],\n",
       "       [8.32274556e-01],\n",
       "       [1.94346576e-05],\n",
       "       [8.53072882e-01],\n",
       "       [3.10599804e-04],\n",
       "       [2.09063292e-04],\n",
       "       [2.78953376e-05],\n",
       "       [9.04311299e-01],\n",
       "       [1.29488111e-03],\n",
       "       [1.60366908e-05],\n",
       "       [1.98394060e-04],\n",
       "       [7.82287419e-01],\n",
       "       [8.79371524e-01],\n",
       "       [2.39193439e-04],\n",
       "       [5.81592321e-04],\n",
       "       [8.81443620e-01],\n",
       "       [3.85135412e-04],\n",
       "       [1.83224678e-04],\n",
       "       [3.33847106e-02],\n",
       "       [8.84380460e-01],\n",
       "       [9.22778130e-01],\n",
       "       [1.49626732e-02],\n",
       "       [3.47435474e-04],\n",
       "       [8.25673223e-01],\n",
       "       [5.54012358e-02],\n",
       "       [9.25205350e-01],\n",
       "       [2.95712948e-02],\n",
       "       [9.46394801e-01],\n",
       "       [1.09645903e-01],\n",
       "       [2.63631344e-03],\n",
       "       [8.38764668e-01],\n",
       "       [8.36160907e-05],\n",
       "       [4.95791319e-05],\n",
       "       [8.11879277e-01],\n",
       "       [7.96016611e-05],\n",
       "       [8.90362382e-01],\n",
       "       [8.95612717e-01],\n",
       "       [8.13632846e-01],\n",
       "       [9.19647396e-01],\n",
       "       [8.47026825e-01],\n",
       "       [6.97106123e-04],\n",
       "       [8.15767169e-01],\n",
       "       [8.24216247e-01],\n",
       "       [9.01911438e-01],\n",
       "       [4.18686330e-01],\n",
       "       [1.20619210e-04],\n",
       "       [8.56534541e-01],\n",
       "       [8.59810680e-05],\n",
       "       [2.65163481e-02],\n",
       "       [8.65102470e-01],\n",
       "       [9.36448574e-01],\n",
       "       [8.42521906e-01],\n",
       "       [8.71534109e-01],\n",
       "       [8.42048466e-01],\n",
       "       [8.89404953e-01],\n",
       "       [2.68258750e-02],\n",
       "       [3.41385603e-04],\n",
       "       [9.92268324e-04],\n",
       "       [8.78056526e-01],\n",
       "       [2.13768482e-02],\n",
       "       [8.54411066e-01],\n",
       "       [9.09086704e-01],\n",
       "       [1.53681636e-03],\n",
       "       [8.48114491e-04],\n",
       "       [9.32703495e-01],\n",
       "       [9.36448574e-01],\n",
       "       [7.07507133e-04],\n",
       "       [1.58101320e-04],\n",
       "       [2.32517719e-04],\n",
       "       [4.27067280e-04],\n",
       "       [1.32828951e-04],\n",
       "       [8.64282489e-01],\n",
       "       [8.57567787e-03],\n",
       "       [2.94804377e-05],\n",
       "       [8.93641591e-01],\n",
       "       [3.20467353e-03],\n",
       "       [8.56104791e-02],\n",
       "       [5.58465719e-03],\n",
       "       [1.00290992e-04],\n",
       "       [8.25386107e-01],\n",
       "       [1.68621540e-04],\n",
       "       [3.58843803e-03],\n",
       "       [9.01463628e-03],\n",
       "       [2.20175982e-02],\n",
       "       [7.19558511e-06],\n",
       "       [7.45087862e-04],\n",
       "       [8.78056526e-01],\n",
       "       [3.91227007e-03],\n",
       "       [9.18222904e-01],\n",
       "       [7.82287419e-01],\n",
       "       [2.17533112e-03],\n",
       "       [8.13792944e-01],\n",
       "       [4.46662903e-02],\n",
       "       [8.19658160e-01],\n",
       "       [2.42441893e-04],\n",
       "       [7.08937645e-04],\n",
       "       [2.50545144e-03],\n",
       "       [5.01671433e-03],\n",
       "       [9.43576276e-01],\n",
       "       [2.26962566e-03],\n",
       "       [8.32302451e-01],\n",
       "       [8.70368242e-01],\n",
       "       [8.43822718e-01],\n",
       "       [7.85730362e-01],\n",
       "       [7.98418820e-02],\n",
       "       [1.50060654e-03],\n",
       "       [2.19166279e-04],\n",
       "       [9.09448504e-01],\n",
       "       [1.49457753e-02],\n",
       "       [3.30647826e-03],\n",
       "       [9.21742737e-01],\n",
       "       [1.11629963e-02],\n",
       "       [1.26087666e-01],\n",
       "       [8.36496115e-01],\n",
       "       [4.07874584e-04],\n",
       "       [2.84701586e-04],\n",
       "       [3.17752361e-04],\n",
       "       [8.77489448e-01],\n",
       "       [8.66701375e-05],\n",
       "       [8.10036302e-01],\n",
       "       [2.80967355e-03],\n",
       "       [4.48617339e-03],\n",
       "       [1.21860476e-05],\n",
       "       [2.33616829e-02],\n",
       "       [7.47442245e-04],\n",
       "       [5.06579876e-04],\n",
       "       [1.48132443e-03],\n",
       "       [1.33508354e-01],\n",
       "       [9.77203890e-05],\n",
       "       [4.16648388e-03],\n",
       "       [9.96997952e-03],\n",
       "       [9.56853764e-05],\n",
       "       [5.07060977e-05],\n",
       "       [7.83186853e-01],\n",
       "       [4.16664779e-02],\n",
       "       [9.36448574e-01],\n",
       "       [1.50010765e-01],\n",
       "       [3.24189663e-04],\n",
       "       [8.84380460e-01],\n",
       "       [1.06045604e-03],\n",
       "       [8.98877144e-01],\n",
       "       [2.32547522e-04],\n",
       "       [2.34636068e-02],\n",
       "       [8.28050494e-01],\n",
       "       [2.94864178e-04],\n",
       "       [8.65958571e-01],\n",
       "       [1.42604113e-03],\n",
       "       [8.51355433e-01],\n",
       "       [9.15309906e-01],\n",
       "       [8.87940168e-01],\n",
       "       [9.73757327e-01],\n",
       "       [3.09944153e-04],\n",
       "       [8.78517747e-01],\n",
       "       [4.05430794e-04],\n",
       "       [9.41158533e-01],\n",
       "       [9.31416392e-01],\n",
       "       [4.31835651e-04],\n",
       "       [9.27072108e-01],\n",
       "       [2.24173069e-04],\n",
       "       [7.54583478e-01],\n",
       "       [8.62568617e-04],\n",
       "       [8.95205379e-01],\n",
       "       [3.35445702e-02],\n",
       "       [8.29101443e-01],\n",
       "       [6.29699789e-05],\n",
       "       [4.20451164e-04],\n",
       "       [9.73757327e-01],\n",
       "       [5.57192862e-02],\n",
       "       [8.78056526e-01],\n",
       "       [8.78104627e-01],\n",
       "       [9.18102920e-01],\n",
       "       [1.63540870e-01],\n",
       "       [4.09951244e-05],\n",
       "       [9.38762188e-01],\n",
       "       [9.16979074e-01],\n",
       "       [8.65181684e-01],\n",
       "       [8.52602482e-01],\n",
       "       [9.44216728e-01],\n",
       "       [8.78056526e-01],\n",
       "       [7.17252493e-04],\n",
       "       [8.50186348e-01],\n",
       "       [3.80128622e-04],\n",
       "       [4.46856022e-04],\n",
       "       [4.84973192e-04],\n",
       "       [3.12298536e-04],\n",
       "       [1.20931864e-03]], dtype=float32)"
      ]
     },
     "execution_count": 28,
     "metadata": {},
     "output_type": "execute_result"
    }
   ],
   "source": [
    "preds = model.predict(validation_generator, verbose=1)\n",
    "preds"
   ]
  },
  {
   "cell_type": "code",
   "execution_count": 29,
   "metadata": {},
   "outputs": [
    {
     "name": "stdout",
     "output_type": "stream",
     "text": [
      "[[0.]\n",
      " [0.]\n",
      " [0.]\n",
      " [0.]\n",
      " [0.]\n",
      " [0.]\n",
      " [0.]\n",
      " [0.]\n",
      " [0.]\n",
      " [0.]\n",
      " [0.]\n",
      " [0.]\n",
      " [0.]\n",
      " [0.]\n",
      " [0.]\n",
      " [0.]\n",
      " [0.]\n",
      " [0.]\n",
      " [0.]\n",
      " [0.]\n",
      " [0.]\n",
      " [0.]\n",
      " [0.]\n",
      " [0.]\n",
      " [0.]\n",
      " [0.]\n",
      " [0.]\n",
      " [0.]\n",
      " [0.]\n",
      " [0.]\n",
      " [0.]\n",
      " [0.]\n",
      " [0.]\n",
      " [0.]\n",
      " [0.]\n",
      " [0.]\n",
      " [0.]\n",
      " [0.]\n",
      " [0.]\n",
      " [0.]\n",
      " [0.]\n",
      " [0.]\n",
      " [0.]\n",
      " [0.]\n",
      " [0.]\n",
      " [0.]\n",
      " [0.]\n",
      " [0.]\n",
      " [0.]\n",
      " [0.]\n",
      " [0.]\n",
      " [0.]\n",
      " [0.]\n",
      " [0.]\n",
      " [0.]\n",
      " [0.]\n",
      " [0.]\n",
      " [0.]\n",
      " [0.]\n",
      " [0.]\n",
      " [0.]\n",
      " [0.]\n",
      " [0.]\n",
      " [0.]\n",
      " [0.]\n",
      " [0.]\n",
      " [0.]\n",
      " [0.]\n",
      " [0.]\n",
      " [0.]\n",
      " [0.]\n",
      " [0.]\n",
      " [0.]\n",
      " [0.]\n",
      " [0.]\n",
      " [0.]\n",
      " [0.]\n",
      " [0.]\n",
      " [0.]\n",
      " [0.]\n",
      " [0.]\n",
      " [0.]\n",
      " [0.]\n",
      " [0.]\n",
      " [0.]\n",
      " [0.]\n",
      " [0.]\n",
      " [0.]\n",
      " [0.]\n",
      " [0.]\n",
      " [0.]\n",
      " [0.]\n",
      " [0.]\n",
      " [0.]\n",
      " [0.]\n",
      " [0.]\n",
      " [0.]\n",
      " [0.]\n",
      " [0.]\n",
      " [0.]\n",
      " [0.]\n",
      " [0.]\n",
      " [0.]\n",
      " [0.]\n",
      " [0.]\n",
      " [0.]\n",
      " [0.]\n",
      " [0.]\n",
      " [0.]\n",
      " [0.]\n",
      " [0.]\n",
      " [0.]\n",
      " [0.]\n",
      " [0.]\n",
      " [0.]\n",
      " [0.]\n",
      " [0.]\n",
      " [0.]\n",
      " [0.]\n",
      " [0.]\n",
      " [0.]\n",
      " [0.]\n",
      " [0.]\n",
      " [0.]\n",
      " [0.]\n",
      " [0.]\n",
      " [0.]\n",
      " [0.]\n",
      " [0.]\n",
      " [0.]\n",
      " [0.]\n",
      " [0.]\n",
      " [0.]\n",
      " [0.]\n",
      " [0.]\n",
      " [0.]\n",
      " [0.]\n",
      " [0.]\n",
      " [0.]\n",
      " [0.]\n",
      " [0.]\n",
      " [0.]\n",
      " [0.]\n",
      " [0.]\n",
      " [0.]\n",
      " [0.]\n",
      " [0.]\n",
      " [0.]\n",
      " [0.]\n",
      " [0.]\n",
      " [0.]\n",
      " [0.]\n",
      " [0.]\n",
      " [0.]\n",
      " [0.]\n",
      " [0.]\n",
      " [0.]\n",
      " [0.]\n",
      " [0.]\n",
      " [0.]\n",
      " [0.]\n",
      " [0.]\n",
      " [0.]\n",
      " [0.]\n",
      " [0.]\n",
      " [0.]\n",
      " [0.]\n",
      " [0.]\n",
      " [0.]\n",
      " [0.]\n",
      " [0.]\n",
      " [0.]\n",
      " [0.]\n",
      " [0.]\n",
      " [0.]\n",
      " [0.]\n",
      " [0.]\n",
      " [0.]\n",
      " [0.]\n",
      " [0.]\n",
      " [0.]\n",
      " [0.]\n",
      " [0.]\n",
      " [0.]\n",
      " [0.]\n",
      " [0.]\n",
      " [0.]\n",
      " [0.]\n",
      " [0.]\n",
      " [0.]\n",
      " [0.]\n",
      " [0.]\n",
      " [0.]\n",
      " [0.]\n",
      " [0.]\n",
      " [0.]\n",
      " [0.]\n",
      " [0.]\n",
      " [0.]\n",
      " [0.]\n",
      " [0.]\n",
      " [0.]\n",
      " [0.]\n",
      " [0.]\n",
      " [0.]\n",
      " [0.]\n",
      " [0.]\n",
      " [0.]\n",
      " [0.]\n",
      " [0.]\n",
      " [0.]\n",
      " [0.]\n",
      " [0.]\n",
      " [0.]\n",
      " [0.]\n",
      " [0.]\n",
      " [0.]\n",
      " [0.]\n",
      " [0.]\n",
      " [0.]\n",
      " [0.]\n",
      " [0.]\n",
      " [0.]\n",
      " [0.]\n",
      " [0.]\n",
      " [0.]\n",
      " [0.]\n",
      " [0.]\n",
      " [0.]\n",
      " [0.]\n",
      " [0.]\n",
      " [0.]\n",
      " [0.]\n",
      " [0.]\n",
      " [0.]\n",
      " [0.]\n",
      " [0.]\n",
      " [0.]\n",
      " [0.]\n",
      " [0.]\n",
      " [0.]\n",
      " [0.]\n",
      " [0.]\n",
      " [0.]\n",
      " [0.]\n",
      " [0.]\n",
      " [0.]\n",
      " [0.]\n",
      " [0.]\n",
      " [0.]\n",
      " [0.]\n",
      " [0.]\n",
      " [0.]\n",
      " [0.]\n",
      " [0.]\n",
      " [0.]\n",
      " [0.]\n",
      " [0.]\n",
      " [0.]\n",
      " [0.]\n",
      " [0.]\n",
      " [0.]\n",
      " [0.]\n",
      " [0.]\n",
      " [0.]\n",
      " [0.]\n",
      " [0.]\n",
      " [0.]\n",
      " [0.]\n",
      " [0.]\n",
      " [0.]\n",
      " [0.]\n",
      " [0.]\n",
      " [0.]\n",
      " [0.]\n",
      " [0.]\n",
      " [0.]\n",
      " [0.]\n",
      " [0.]\n",
      " [0.]\n",
      " [0.]\n",
      " [0.]\n",
      " [0.]\n",
      " [0.]\n",
      " [0.]\n",
      " [0.]\n",
      " [0.]\n",
      " [0.]\n",
      " [0.]\n",
      " [0.]\n",
      " [0.]\n",
      " [0.]\n",
      " [0.]\n",
      " [0.]\n",
      " [0.]\n",
      " [0.]\n",
      " [0.]\n",
      " [0.]\n",
      " [0.]\n",
      " [0.]\n",
      " [0.]\n",
      " [0.]\n",
      " [0.]\n",
      " [0.]\n",
      " [0.]\n",
      " [0.]\n",
      " [0.]\n",
      " [0.]\n",
      " [0.]\n",
      " [0.]\n",
      " [0.]\n",
      " [0.]\n",
      " [0.]\n",
      " [0.]\n",
      " [0.]\n",
      " [0.]\n",
      " [0.]\n",
      " [0.]\n",
      " [0.]\n",
      " [0.]\n",
      " [0.]\n",
      " [0.]\n",
      " [0.]\n",
      " [0.]\n",
      " [0.]\n",
      " [0.]\n",
      " [0.]\n",
      " [0.]\n",
      " [0.]\n",
      " [0.]\n",
      " [0.]\n",
      " [0.]\n",
      " [0.]\n",
      " [0.]\n",
      " [0.]\n",
      " [0.]\n",
      " [0.]\n",
      " [0.]\n",
      " [0.]\n",
      " [0.]\n",
      " [0.]\n",
      " [0.]\n",
      " [0.]\n",
      " [0.]\n",
      " [0.]\n",
      " [0.]\n",
      " [0.]\n",
      " [0.]\n",
      " [0.]\n",
      " [0.]\n",
      " [0.]\n",
      " [0.]\n",
      " [0.]\n",
      " [0.]\n",
      " [0.]\n",
      " [0.]]\n"
     ]
    }
   ],
   "source": [
    "predictions = preds.copy()\n",
    "predictions[predictions <= 0.5] = 1\n",
    "predictions[predictions > 0.5] = 0\n",
    "\n",
    "print(predictions)"
   ]
  },
  {
   "cell_type": "code",
   "execution_count": null,
   "metadata": {},
   "outputs": [],
   "source": []
  }
 ],
 "metadata": {
  "kernelspec": {
   "display_name": "Python 3",
   "language": "python",
   "name": "python3"
  },
  "language_info": {
   "codemirror_mode": {
    "name": "ipython",
    "version": 3
   },
   "file_extension": ".py",
   "mimetype": "text/x-python",
   "name": "python",
   "nbconvert_exporter": "python",
   "pygments_lexer": "ipython3",
   "version": "3.8.5"
  }
 },
 "nbformat": 4,
 "nbformat_minor": 4
}
